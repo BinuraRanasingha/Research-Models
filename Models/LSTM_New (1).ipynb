{
  "cells": [
    {
      "cell_type": "code",
      "execution_count": 18,
      "metadata": {
        "colab": {
          "base_uri": "https://localhost:8080/"
        },
        "id": "AOnpqjK0i_gh",
        "outputId": "13ad158d-3cb4-4399-f300-b3a788b0f0ef"
      },
      "outputs": [
        {
          "output_type": "stream",
          "name": "stdout",
          "text": [
            "Drive already mounted at /content/drive; to attempt to forcibly remount, call drive.mount(\"/content/drive\", force_remount=True).\n"
          ]
        }
      ],
      "source": [
        "from google.colab import drive\n",
        "drive.mount('/content/drive')"
      ],
      "id": "AOnpqjK0i_gh"
    },
    {
      "cell_type": "code",
      "execution_count": 19,
      "metadata": {
        "id": "bf5f0291"
      },
      "outputs": [],
      "source": [
        "import math\n",
        "import matplotlib.pyplot as plt\n",
        "import keras\n",
        "import pandas as pd\n",
        "import numpy as np\n",
        "from keras.models import Sequential\n",
        "from keras.layers import Dense\n",
        "from keras.layers import LSTM\n",
        "from keras.layers import Dropout\n",
        "from keras.layers import *\n",
        "from sklearn.preprocessing import MinMaxScaler\n",
        "from sklearn.metrics import mean_squared_error\n",
        "from sklearn.metrics import mean_absolute_error\n",
        "from sklearn.model_selection import train_test_split\n",
        "from keras.callbacks import EarlyStopping\n",
        "from tensorflow.keras.optimizers import Adam"
      ],
      "id": "bf5f0291"
    },
    {
      "cell_type": "code",
      "execution_count": 20,
      "metadata": {
        "colab": {
          "base_uri": "https://localhost:8080/",
          "height": 223
        },
        "id": "688fe9bd",
        "outputId": "35a88f06-7c0b-4a2f-c27f-8269c7ea0273"
      },
      "outputs": [
        {
          "output_type": "stream",
          "name": "stdout",
          "text": [
            "Number of rows and columns: (125, 2)\n"
          ]
        },
        {
          "output_type": "execute_result",
          "data": {
            "text/plain": [
              "        Year   DomesticDebt_adjust\n",
              "0  1990-03-31         13507.410336\n",
              "1  1990-06-30         14167.597438\n",
              "2  1990-09-30         14827.794085\n",
              "3  1990-12-31         15487.998142\n",
              "4  1991-03-31         16148.210336"
            ],
            "text/html": [
              "\n",
              "  <div id=\"df-07fa3368-a5a3-4b53-8a19-51a6e0237d21\" class=\"colab-df-container\">\n",
              "    <div>\n",
              "<style scoped>\n",
              "    .dataframe tbody tr th:only-of-type {\n",
              "        vertical-align: middle;\n",
              "    }\n",
              "\n",
              "    .dataframe tbody tr th {\n",
              "        vertical-align: top;\n",
              "    }\n",
              "\n",
              "    .dataframe thead th {\n",
              "        text-align: right;\n",
              "    }\n",
              "</style>\n",
              "<table border=\"1\" class=\"dataframe\">\n",
              "  <thead>\n",
              "    <tr style=\"text-align: right;\">\n",
              "      <th></th>\n",
              "      <th>Year</th>\n",
              "      <th>DomesticDebt_adjust</th>\n",
              "    </tr>\n",
              "  </thead>\n",
              "  <tbody>\n",
              "    <tr>\n",
              "      <th>0</th>\n",
              "      <td>1990-03-31</td>\n",
              "      <td>13507.410336</td>\n",
              "    </tr>\n",
              "    <tr>\n",
              "      <th>1</th>\n",
              "      <td>1990-06-30</td>\n",
              "      <td>14167.597438</td>\n",
              "    </tr>\n",
              "    <tr>\n",
              "      <th>2</th>\n",
              "      <td>1990-09-30</td>\n",
              "      <td>14827.794085</td>\n",
              "    </tr>\n",
              "    <tr>\n",
              "      <th>3</th>\n",
              "      <td>1990-12-31</td>\n",
              "      <td>15487.998142</td>\n",
              "    </tr>\n",
              "    <tr>\n",
              "      <th>4</th>\n",
              "      <td>1991-03-31</td>\n",
              "      <td>16148.210336</td>\n",
              "    </tr>\n",
              "  </tbody>\n",
              "</table>\n",
              "</div>\n",
              "    <div class=\"colab-df-buttons\">\n",
              "\n",
              "  <div class=\"colab-df-container\">\n",
              "    <button class=\"colab-df-convert\" onclick=\"convertToInteractive('df-07fa3368-a5a3-4b53-8a19-51a6e0237d21')\"\n",
              "            title=\"Convert this dataframe to an interactive table.\"\n",
              "            style=\"display:none;\">\n",
              "\n",
              "  <svg xmlns=\"http://www.w3.org/2000/svg\" height=\"24px\" viewBox=\"0 -960 960 960\">\n",
              "    <path d=\"M120-120v-720h720v720H120Zm60-500h600v-160H180v160Zm220 220h160v-160H400v160Zm0 220h160v-160H400v160ZM180-400h160v-160H180v160Zm440 0h160v-160H620v160ZM180-180h160v-160H180v160Zm440 0h160v-160H620v160Z\"/>\n",
              "  </svg>\n",
              "    </button>\n",
              "\n",
              "  <style>\n",
              "    .colab-df-container {\n",
              "      display:flex;\n",
              "      gap: 12px;\n",
              "    }\n",
              "\n",
              "    .colab-df-convert {\n",
              "      background-color: #E8F0FE;\n",
              "      border: none;\n",
              "      border-radius: 50%;\n",
              "      cursor: pointer;\n",
              "      display: none;\n",
              "      fill: #1967D2;\n",
              "      height: 32px;\n",
              "      padding: 0 0 0 0;\n",
              "      width: 32px;\n",
              "    }\n",
              "\n",
              "    .colab-df-convert:hover {\n",
              "      background-color: #E2EBFA;\n",
              "      box-shadow: 0px 1px 2px rgba(60, 64, 67, 0.3), 0px 1px 3px 1px rgba(60, 64, 67, 0.15);\n",
              "      fill: #174EA6;\n",
              "    }\n",
              "\n",
              "    .colab-df-buttons div {\n",
              "      margin-bottom: 4px;\n",
              "    }\n",
              "\n",
              "    [theme=dark] .colab-df-convert {\n",
              "      background-color: #3B4455;\n",
              "      fill: #D2E3FC;\n",
              "    }\n",
              "\n",
              "    [theme=dark] .colab-df-convert:hover {\n",
              "      background-color: #434B5C;\n",
              "      box-shadow: 0px 1px 3px 1px rgba(0, 0, 0, 0.15);\n",
              "      filter: drop-shadow(0px 1px 2px rgba(0, 0, 0, 0.3));\n",
              "      fill: #FFFFFF;\n",
              "    }\n",
              "  </style>\n",
              "\n",
              "    <script>\n",
              "      const buttonEl =\n",
              "        document.querySelector('#df-07fa3368-a5a3-4b53-8a19-51a6e0237d21 button.colab-df-convert');\n",
              "      buttonEl.style.display =\n",
              "        google.colab.kernel.accessAllowed ? 'block' : 'none';\n",
              "\n",
              "      async function convertToInteractive(key) {\n",
              "        const element = document.querySelector('#df-07fa3368-a5a3-4b53-8a19-51a6e0237d21');\n",
              "        const dataTable =\n",
              "          await google.colab.kernel.invokeFunction('convertToInteractive',\n",
              "                                                    [key], {});\n",
              "        if (!dataTable) return;\n",
              "\n",
              "        const docLinkHtml = 'Like what you see? Visit the ' +\n",
              "          '<a target=\"_blank\" href=https://colab.research.google.com/notebooks/data_table.ipynb>data table notebook</a>'\n",
              "          + ' to learn more about interactive tables.';\n",
              "        element.innerHTML = '';\n",
              "        dataTable['output_type'] = 'display_data';\n",
              "        await google.colab.output.renderOutput(dataTable, element);\n",
              "        const docLink = document.createElement('div');\n",
              "        docLink.innerHTML = docLinkHtml;\n",
              "        element.appendChild(docLink);\n",
              "      }\n",
              "    </script>\n",
              "  </div>\n",
              "\n",
              "\n",
              "<div id=\"df-3a7250b3-1295-4021-9ea5-c34fbb29a2c7\">\n",
              "  <button class=\"colab-df-quickchart\" onclick=\"quickchart('df-3a7250b3-1295-4021-9ea5-c34fbb29a2c7')\"\n",
              "            title=\"Suggest charts.\"\n",
              "            style=\"display:none;\">\n",
              "\n",
              "<svg xmlns=\"http://www.w3.org/2000/svg\" height=\"24px\"viewBox=\"0 0 24 24\"\n",
              "     width=\"24px\">\n",
              "    <g>\n",
              "        <path d=\"M19 3H5c-1.1 0-2 .9-2 2v14c0 1.1.9 2 2 2h14c1.1 0 2-.9 2-2V5c0-1.1-.9-2-2-2zM9 17H7v-7h2v7zm4 0h-2V7h2v10zm4 0h-2v-4h2v4z\"/>\n",
              "    </g>\n",
              "</svg>\n",
              "  </button>\n",
              "\n",
              "<style>\n",
              "  .colab-df-quickchart {\n",
              "      --bg-color: #E8F0FE;\n",
              "      --fill-color: #1967D2;\n",
              "      --hover-bg-color: #E2EBFA;\n",
              "      --hover-fill-color: #174EA6;\n",
              "      --disabled-fill-color: #AAA;\n",
              "      --disabled-bg-color: #DDD;\n",
              "  }\n",
              "\n",
              "  [theme=dark] .colab-df-quickchart {\n",
              "      --bg-color: #3B4455;\n",
              "      --fill-color: #D2E3FC;\n",
              "      --hover-bg-color: #434B5C;\n",
              "      --hover-fill-color: #FFFFFF;\n",
              "      --disabled-bg-color: #3B4455;\n",
              "      --disabled-fill-color: #666;\n",
              "  }\n",
              "\n",
              "  .colab-df-quickchart {\n",
              "    background-color: var(--bg-color);\n",
              "    border: none;\n",
              "    border-radius: 50%;\n",
              "    cursor: pointer;\n",
              "    display: none;\n",
              "    fill: var(--fill-color);\n",
              "    height: 32px;\n",
              "    padding: 0;\n",
              "    width: 32px;\n",
              "  }\n",
              "\n",
              "  .colab-df-quickchart:hover {\n",
              "    background-color: var(--hover-bg-color);\n",
              "    box-shadow: 0 1px 2px rgba(60, 64, 67, 0.3), 0 1px 3px 1px rgba(60, 64, 67, 0.15);\n",
              "    fill: var(--button-hover-fill-color);\n",
              "  }\n",
              "\n",
              "  .colab-df-quickchart-complete:disabled,\n",
              "  .colab-df-quickchart-complete:disabled:hover {\n",
              "    background-color: var(--disabled-bg-color);\n",
              "    fill: var(--disabled-fill-color);\n",
              "    box-shadow: none;\n",
              "  }\n",
              "\n",
              "  .colab-df-spinner {\n",
              "    border: 2px solid var(--fill-color);\n",
              "    border-color: transparent;\n",
              "    border-bottom-color: var(--fill-color);\n",
              "    animation:\n",
              "      spin 1s steps(1) infinite;\n",
              "  }\n",
              "\n",
              "  @keyframes spin {\n",
              "    0% {\n",
              "      border-color: transparent;\n",
              "      border-bottom-color: var(--fill-color);\n",
              "      border-left-color: var(--fill-color);\n",
              "    }\n",
              "    20% {\n",
              "      border-color: transparent;\n",
              "      border-left-color: var(--fill-color);\n",
              "      border-top-color: var(--fill-color);\n",
              "    }\n",
              "    30% {\n",
              "      border-color: transparent;\n",
              "      border-left-color: var(--fill-color);\n",
              "      border-top-color: var(--fill-color);\n",
              "      border-right-color: var(--fill-color);\n",
              "    }\n",
              "    40% {\n",
              "      border-color: transparent;\n",
              "      border-right-color: var(--fill-color);\n",
              "      border-top-color: var(--fill-color);\n",
              "    }\n",
              "    60% {\n",
              "      border-color: transparent;\n",
              "      border-right-color: var(--fill-color);\n",
              "    }\n",
              "    80% {\n",
              "      border-color: transparent;\n",
              "      border-right-color: var(--fill-color);\n",
              "      border-bottom-color: var(--fill-color);\n",
              "    }\n",
              "    90% {\n",
              "      border-color: transparent;\n",
              "      border-bottom-color: var(--fill-color);\n",
              "    }\n",
              "  }\n",
              "</style>\n",
              "\n",
              "  <script>\n",
              "    async function quickchart(key) {\n",
              "      const quickchartButtonEl =\n",
              "        document.querySelector('#' + key + ' button');\n",
              "      quickchartButtonEl.disabled = true;  // To prevent multiple clicks.\n",
              "      quickchartButtonEl.classList.add('colab-df-spinner');\n",
              "      try {\n",
              "        const charts = await google.colab.kernel.invokeFunction(\n",
              "            'suggestCharts', [key], {});\n",
              "      } catch (error) {\n",
              "        console.error('Error during call to suggestCharts:', error);\n",
              "      }\n",
              "      quickchartButtonEl.classList.remove('colab-df-spinner');\n",
              "      quickchartButtonEl.classList.add('colab-df-quickchart-complete');\n",
              "    }\n",
              "    (() => {\n",
              "      let quickchartButtonEl =\n",
              "        document.querySelector('#df-3a7250b3-1295-4021-9ea5-c34fbb29a2c7 button');\n",
              "      quickchartButtonEl.style.display =\n",
              "        google.colab.kernel.accessAllowed ? 'block' : 'none';\n",
              "    })();\n",
              "  </script>\n",
              "</div>\n",
              "    </div>\n",
              "  </div>\n"
            ]
          },
          "metadata": {},
          "execution_count": 20
        }
      ],
      "source": [
        "df=pd.read_csv(\"/content/drive/MyDrive/quarter_data_domestic_1.csv\")\n",
        "print('Number of rows and columns:', df.shape)\n",
        "df.head(5)"
      ],
      "id": "688fe9bd"
    },
    {
      "cell_type": "code",
      "execution_count": 21,
      "metadata": {
        "id": "252095b9"
      },
      "outputs": [],
      "source": [
        "training_set = df.iloc[:60, 1:2].values\n",
        "test_set = df.iloc[60:, 1:2].values"
      ],
      "id": "252095b9"
    },
    {
      "cell_type": "code",
      "execution_count": 22,
      "metadata": {
        "colab": {
          "base_uri": "https://localhost:8080/"
        },
        "id": "006f9c92",
        "outputId": "b5c7e8c8-3eeb-44f4-e7db-473eb2199345"
      },
      "outputs": [
        {
          "output_type": "execute_result",
          "data": {
            "text/plain": [
              "array([[ 13507.41033566],\n",
              "       [ 14167.59743779],\n",
              "       [ 14827.79408454],\n",
              "       [ 15487.99814202],\n",
              "       [ 16148.21033566],\n",
              "       [ 15998.69743779],\n",
              "       [ 15849.19408454],\n",
              "       [ 15699.69814202],\n",
              "       [ 15550.21033566],\n",
              "       [ 17722.52243779],\n",
              "       [ 19894.84408454],\n",
              "       [ 22067.17314202],\n",
              "       [ 24239.51033566],\n",
              "       [ 27603.34743779],\n",
              "       [ 30967.19408454],\n",
              "       [ 34331.04814202],\n",
              "       [ 37694.91033566],\n",
              "       [ 36763.97243779],\n",
              "       [ 35833.04408454],\n",
              "       [ 34902.12314202],\n",
              "       [ 33971.21033566],\n",
              "       [ 37916.64743779],\n",
              "       [ 41862.09408454],\n",
              "       [ 45807.54814202],\n",
              "       [ 49753.01033566],\n",
              "       [ 44883.24743779],\n",
              "       [ 40013.49408454],\n",
              "       [ 35143.74814202],\n",
              "       [ 30274.01033566],\n",
              "       [ 40545.69743779],\n",
              "       [ 50817.39408454],\n",
              "       [ 61089.09814202],\n",
              "       [ 71360.81033566],\n",
              "       [ 72239.29743779],\n",
              "       [ 73117.79408454],\n",
              "       [ 73996.29814202],\n",
              "       [ 74874.81033566],\n",
              "       [ 85780.84743779],\n",
              "       [ 96686.89408454],\n",
              "       [107592.94814202],\n",
              "       [118499.01033566],\n",
              "       [119772.74743779],\n",
              "       [121046.49408454],\n",
              "       [122320.24814202],\n",
              "       [123594.01033566],\n",
              "       [124282.99743779],\n",
              "       [124971.99408454],\n",
              "       [125660.99814202],\n",
              "       [126350.01033566],\n",
              "       [114739.99743779],\n",
              "       [103129.99408454],\n",
              "       [ 91519.99814202],\n",
              "       [ 79910.01033566],\n",
              "       [ 89243.04743779],\n",
              "       [ 98576.09408454],\n",
              "       [107909.14814202],\n",
              "       [117242.21033566],\n",
              "       [118832.39743779],\n",
              "       [120422.59408454],\n",
              "       [122012.79814202]])"
            ]
          },
          "metadata": {},
          "execution_count": 22
        }
      ],
      "source": [
        "training_set"
      ],
      "id": "006f9c92"
    },
    {
      "cell_type": "code",
      "execution_count": 23,
      "metadata": {
        "id": "c1d62e19"
      },
      "outputs": [],
      "source": [
        "# Feature Scaling\n",
        "sc = MinMaxScaler(feature_range = (0, 1))\n",
        "training_set_scaled = sc.fit_transform(training_set)\n",
        "# Creating a data structure with 60 time-steps and 1 output\n",
        "X_train = []\n",
        "y_train = []\n",
        "for i in range(10, 60):\n",
        "    X_train.append(training_set_scaled[i-10:i, 0])\n",
        "    y_train.append(training_set_scaled[i, 0])\n",
        "X_train, y_train = np.array(X_train), np.array(y_train)\n",
        "X_train = np.reshape(X_train, (X_train.shape[0], X_train.shape[1], 1))\n",
        "#(740, 60, 1)"
      ],
      "id": "c1d62e19"
    },
    {
      "cell_type": "code",
      "execution_count": 24,
      "metadata": {
        "id": "c3ab4dc4"
      },
      "outputs": [],
      "source": [
        "#Creating the LSTM Model\n",
        "model = Sequential()\n",
        "model.add(LSTM(500,input_shape=(X_train.shape[1], 1)))\n",
        "model.add(Dense(1))\n",
        "\n",
        "\n",
        "# Defining the optimizer with the learning rate\n",
        "learning_rate = 0.0001\n",
        "optimizer = Adam(learning_rate=learning_rate)\n",
        "\n",
        "#Compiling the model\n",
        "model.compile(loss='mse',optimizer=optimizer)\n"
      ],
      "id": "c3ab4dc4"
    },
    {
      "cell_type": "code",
      "execution_count": 25,
      "metadata": {
        "colab": {
          "base_uri": "https://localhost:8080/"
        },
        "id": "f95ac845",
        "outputId": "8eb8a9dc-18ed-4c1b-e0df-874dfb1e6d56"
      },
      "outputs": [
        {
          "output_type": "stream",
          "name": "stdout",
          "text": [
            "Epoch 1/100\n",
            "50/50 [==============================] - 2s 4ms/step - loss: 0.1017\n",
            "Epoch 2/100\n",
            "50/50 [==============================] - 0s 4ms/step - loss: 0.0385\n",
            "Epoch 3/100\n",
            "50/50 [==============================] - 0s 4ms/step - loss: 0.0245\n",
            "Epoch 4/100\n",
            "50/50 [==============================] - 0s 4ms/step - loss: 0.0264\n",
            "Epoch 5/100\n",
            "50/50 [==============================] - 0s 4ms/step - loss: 0.0230\n",
            "Epoch 6/100\n",
            "50/50 [==============================] - 0s 4ms/step - loss: 0.0217\n",
            "Epoch 7/100\n",
            "50/50 [==============================] - 0s 4ms/step - loss: 0.0203\n",
            "Epoch 8/100\n",
            "50/50 [==============================] - 0s 3ms/step - loss: 0.0231\n",
            "Epoch 9/100\n",
            "50/50 [==============================] - 0s 4ms/step - loss: 0.0212\n",
            "Epoch 10/100\n",
            "50/50 [==============================] - 0s 3ms/step - loss: 0.0215\n",
            "Epoch 11/100\n",
            "50/50 [==============================] - 0s 4ms/step - loss: 0.0199\n",
            "Epoch 12/100\n",
            "50/50 [==============================] - 0s 4ms/step - loss: 0.0224\n",
            "Epoch 13/100\n",
            "50/50 [==============================] - 0s 3ms/step - loss: 0.0205\n",
            "Epoch 14/100\n",
            "50/50 [==============================] - 0s 4ms/step - loss: 0.0188\n",
            "Epoch 15/100\n",
            "50/50 [==============================] - 0s 4ms/step - loss: 0.0184\n",
            "Epoch 16/100\n",
            "50/50 [==============================] - 0s 4ms/step - loss: 0.0175\n",
            "Epoch 17/100\n",
            "50/50 [==============================] - 0s 4ms/step - loss: 0.0206\n",
            "Epoch 18/100\n",
            "50/50 [==============================] - 0s 4ms/step - loss: 0.0176\n",
            "Epoch 19/100\n",
            "50/50 [==============================] - 0s 4ms/step - loss: 0.0156\n",
            "Epoch 20/100\n",
            "50/50 [==============================] - 0s 4ms/step - loss: 0.0173\n",
            "Epoch 21/100\n",
            "50/50 [==============================] - 0s 4ms/step - loss: 0.0157\n",
            "Epoch 22/100\n",
            "50/50 [==============================] - 0s 4ms/step - loss: 0.0174\n",
            "Epoch 23/100\n",
            "50/50 [==============================] - 0s 4ms/step - loss: 0.0134\n",
            "Epoch 24/100\n",
            "50/50 [==============================] - 0s 3ms/step - loss: 0.0169\n",
            "Epoch 25/100\n",
            "50/50 [==============================] - 0s 4ms/step - loss: 0.0204\n",
            "Epoch 26/100\n",
            "50/50 [==============================] - 0s 4ms/step - loss: 0.0166\n",
            "Epoch 27/100\n",
            "50/50 [==============================] - 0s 4ms/step - loss: 0.0145\n",
            "Epoch 28/100\n",
            "50/50 [==============================] - 0s 4ms/step - loss: 0.0140\n",
            "Epoch 29/100\n",
            "50/50 [==============================] - 0s 5ms/step - loss: 0.0138\n",
            "Epoch 30/100\n",
            "50/50 [==============================] - 0s 5ms/step - loss: 0.0159\n",
            "Epoch 31/100\n",
            "50/50 [==============================] - 0s 5ms/step - loss: 0.0138\n",
            "Epoch 32/100\n",
            "50/50 [==============================] - 0s 5ms/step - loss: 0.0135\n",
            "Epoch 33/100\n",
            "50/50 [==============================] - 0s 5ms/step - loss: 0.0147\n",
            "Epoch 34/100\n",
            "50/50 [==============================] - 0s 5ms/step - loss: 0.0131\n",
            "Epoch 35/100\n",
            "50/50 [==============================] - 0s 5ms/step - loss: 0.0137\n",
            "Epoch 36/100\n",
            "50/50 [==============================] - 0s 5ms/step - loss: 0.0126\n",
            "Epoch 37/100\n",
            "50/50 [==============================] - 0s 5ms/step - loss: 0.0120\n",
            "Epoch 38/100\n",
            "50/50 [==============================] - 0s 5ms/step - loss: 0.0126\n",
            "Epoch 39/100\n",
            "50/50 [==============================] - 0s 5ms/step - loss: 0.0132\n",
            "Epoch 40/100\n",
            "50/50 [==============================] - 0s 5ms/step - loss: 0.0146\n",
            "Epoch 41/100\n",
            "50/50 [==============================] - 0s 5ms/step - loss: 0.0110\n",
            "Epoch 42/100\n",
            "50/50 [==============================] - 0s 5ms/step - loss: 0.0125\n",
            "Epoch 43/100\n",
            "50/50 [==============================] - 0s 5ms/step - loss: 0.0104\n",
            "Epoch 44/100\n",
            "50/50 [==============================] - 0s 5ms/step - loss: 0.0109\n",
            "Epoch 45/100\n",
            "50/50 [==============================] - 0s 4ms/step - loss: 0.0111\n",
            "Epoch 46/100\n",
            "50/50 [==============================] - 0s 4ms/step - loss: 0.0097\n",
            "Epoch 47/100\n",
            "50/50 [==============================] - 0s 4ms/step - loss: 0.0113\n",
            "Epoch 48/100\n",
            "50/50 [==============================] - 0s 4ms/step - loss: 0.0110\n",
            "Epoch 49/100\n",
            "50/50 [==============================] - 0s 4ms/step - loss: 0.0094\n",
            "Epoch 50/100\n",
            "50/50 [==============================] - 0s 4ms/step - loss: 0.0100\n",
            "Epoch 51/100\n",
            "50/50 [==============================] - 0s 4ms/step - loss: 0.0086\n",
            "Epoch 52/100\n",
            "50/50 [==============================] - 0s 4ms/step - loss: 0.0091\n",
            "Epoch 53/100\n",
            "50/50 [==============================] - 0s 4ms/step - loss: 0.0087\n",
            "Epoch 54/100\n",
            "50/50 [==============================] - 0s 4ms/step - loss: 0.0092\n",
            "Epoch 55/100\n",
            "50/50 [==============================] - 0s 4ms/step - loss: 0.0093\n",
            "Epoch 56/100\n",
            "50/50 [==============================] - 0s 4ms/step - loss: 0.0081\n",
            "Epoch 57/100\n",
            "50/50 [==============================] - 0s 4ms/step - loss: 0.0083\n",
            "Epoch 58/100\n",
            "50/50 [==============================] - 0s 4ms/step - loss: 0.0085\n",
            "Epoch 59/100\n",
            "50/50 [==============================] - 0s 4ms/step - loss: 0.0079\n",
            "Epoch 60/100\n",
            "50/50 [==============================] - 0s 4ms/step - loss: 0.0079\n",
            "Epoch 61/100\n",
            "50/50 [==============================] - 0s 4ms/step - loss: 0.0074\n",
            "Epoch 62/100\n",
            "50/50 [==============================] - 0s 4ms/step - loss: 0.0076\n",
            "Epoch 63/100\n",
            "50/50 [==============================] - 0s 4ms/step - loss: 0.0075\n",
            "Epoch 64/100\n",
            "50/50 [==============================] - 0s 4ms/step - loss: 0.0068\n",
            "Epoch 65/100\n",
            "50/50 [==============================] - 0s 4ms/step - loss: 0.0071\n",
            "Epoch 66/100\n",
            "50/50 [==============================] - 0s 4ms/step - loss: 0.0069\n",
            "Epoch 67/100\n",
            "50/50 [==============================] - 0s 4ms/step - loss: 0.0064\n",
            "Epoch 68/100\n",
            "50/50 [==============================] - 0s 4ms/step - loss: 0.0078\n",
            "Epoch 69/100\n",
            "50/50 [==============================] - 0s 4ms/step - loss: 0.0070\n",
            "Epoch 70/100\n",
            "50/50 [==============================] - 0s 4ms/step - loss: 0.0068\n",
            "Epoch 71/100\n",
            "50/50 [==============================] - 0s 4ms/step - loss: 0.0064\n",
            "Epoch 72/100\n",
            "50/50 [==============================] - 0s 4ms/step - loss: 0.0063\n",
            "Epoch 73/100\n",
            "50/50 [==============================] - 0s 4ms/step - loss: 0.0054\n",
            "Epoch 74/100\n",
            "50/50 [==============================] - 0s 4ms/step - loss: 0.0061\n",
            "Epoch 75/100\n",
            "50/50 [==============================] - 0s 4ms/step - loss: 0.0057\n",
            "Epoch 76/100\n",
            "50/50 [==============================] - 0s 4ms/step - loss: 0.0057\n",
            "Epoch 77/100\n",
            "50/50 [==============================] - 0s 4ms/step - loss: 0.0061\n",
            "Epoch 78/100\n",
            "50/50 [==============================] - 0s 3ms/step - loss: 0.0055\n",
            "Epoch 79/100\n",
            "50/50 [==============================] - 0s 4ms/step - loss: 0.0062\n",
            "Epoch 80/100\n",
            "50/50 [==============================] - 0s 4ms/step - loss: 0.0054\n",
            "Epoch 81/100\n",
            "50/50 [==============================] - 0s 4ms/step - loss: 0.0054\n",
            "Epoch 82/100\n",
            "50/50 [==============================] - 0s 4ms/step - loss: 0.0056\n",
            "Epoch 83/100\n",
            "50/50 [==============================] - 0s 4ms/step - loss: 0.0051\n",
            "Epoch 84/100\n",
            "50/50 [==============================] - 0s 4ms/step - loss: 0.0050\n",
            "Epoch 85/100\n",
            "50/50 [==============================] - 0s 4ms/step - loss: 0.0054\n",
            "Epoch 86/100\n",
            "50/50 [==============================] - 0s 4ms/step - loss: 0.0051\n",
            "Epoch 87/100\n",
            "50/50 [==============================] - 0s 4ms/step - loss: 0.0049\n",
            "Epoch 88/100\n",
            "50/50 [==============================] - 0s 4ms/step - loss: 0.0047\n",
            "Epoch 89/100\n",
            "50/50 [==============================] - 0s 4ms/step - loss: 0.0052\n",
            "Epoch 90/100\n",
            "50/50 [==============================] - 0s 4ms/step - loss: 0.0056\n",
            "Epoch 91/100\n",
            "50/50 [==============================] - 0s 4ms/step - loss: 0.0045\n",
            "Epoch 92/100\n",
            "50/50 [==============================] - 0s 4ms/step - loss: 0.0043\n",
            "Epoch 93/100\n",
            "50/50 [==============================] - 0s 3ms/step - loss: 0.0043\n",
            "Epoch 94/100\n",
            "50/50 [==============================] - 0s 4ms/step - loss: 0.0044\n",
            "Epoch 95/100\n",
            "50/50 [==============================] - 0s 4ms/step - loss: 0.0040\n",
            "Epoch 96/100\n",
            "50/50 [==============================] - 0s 4ms/step - loss: 0.0039\n",
            "Epoch 97/100\n",
            "50/50 [==============================] - 0s 4ms/step - loss: 0.0039\n",
            "Epoch 98/100\n",
            "50/50 [==============================] - 0s 5ms/step - loss: 0.0042\n",
            "Epoch 99/100\n",
            "50/50 [==============================] - 0s 5ms/step - loss: 0.0040\n",
            "Epoch 100/100\n",
            "50/50 [==============================] - 0s 5ms/step - loss: 0.0047\n"
          ]
        }
      ],
      "source": [
        "#Training the model\n",
        "history=model.fit(X_train,y_train,epochs=100,batch_size=1)"
      ],
      "id": "f95ac845"
    },
    {
      "cell_type": "code",
      "execution_count": 26,
      "metadata": {
        "colab": {
          "base_uri": "https://localhost:8080/"
        },
        "id": "SKFWNcNPoUf1",
        "outputId": "de80623d-38af-47c6-a86c-9e52649ffd7c"
      },
      "outputs": [
        {
          "output_type": "stream",
          "name": "stdout",
          "text": [
            "(37, 10, 1)\n"
          ]
        }
      ],
      "source": [
        "# Getting the predicted stock price of 2017\n",
        "dataset_train = df.iloc[:60, 1:2]\n",
        "dataset_test = df.iloc[60:, 1:2]\n",
        "dataset_total = pd.concat((dataset_train, dataset_test), axis = 0)\n",
        "inputs = dataset_total[len(dataset_total) - len(dataset_test) - 10:].values\n",
        "inputs = inputs.reshape(-1,1)\n",
        "inputs = sc.transform(inputs)\n",
        "X_test = []\n",
        "y_test=[]\n",
        "for i in range(10, 47):\n",
        "    X_test.append(inputs[i-10:i, 0])\n",
        "    y_test.append(inputs[i, 0])\n",
        "X_test, y_test = np.array(X_test), np.array(y_test)\n",
        "#X_test = np.array(X_test)\n",
        "X_test = np.reshape(X_test, (X_test.shape[0], X_test.shape[1], 1))\n",
        "#y_test = np.reshape(y_test,(y_test.shape[0],y_test.shape[1],1))\n",
        "print(X_test.shape)\n",
        "# (459, 60, 1)"
      ],
      "id": "SKFWNcNPoUf1"
    },
    {
      "cell_type": "code",
      "execution_count": 27,
      "metadata": {
        "colab": {
          "base_uri": "https://localhost:8080/"
        },
        "id": "OVDEcIrOmr5R",
        "outputId": "0451ee6b-c6cb-434b-c315-6bab018100a1"
      },
      "outputs": [
        {
          "output_type": "stream",
          "name": "stdout",
          "text": [
            "2/2 [==============================] - 0s 6ms/step\n"
          ]
        }
      ],
      "source": [
        "predicted_value = model.predict(X_test)\n",
        "original_predicted_value = sc.inverse_transform(predicted_value)"
      ],
      "id": "OVDEcIrOmr5R"
    },
    {
      "cell_type": "code",
      "execution_count": 28,
      "metadata": {
        "colab": {
          "base_uri": "https://localhost:8080/"
        },
        "id": "bnfM5SEYjk6U",
        "outputId": "64f7eb70-136c-4278-c6bc-1a6ef9d348ad"
      },
      "outputs": [
        {
          "output_type": "execute_result",
          "data": {
            "text/plain": [
              "(37, 1)"
            ]
          },
          "metadata": {},
          "execution_count": 28
        }
      ],
      "source": [
        "predicted_value.shape"
      ],
      "id": "bnfM5SEYjk6U"
    },
    {
      "cell_type": "code",
      "execution_count": 29,
      "metadata": {
        "colab": {
          "base_uri": "https://localhost:8080/"
        },
        "id": "sxplQ0ShjqYX",
        "outputId": "aa2e9e95-86d6-47ac-e82b-dc9b23be5c68"
      },
      "outputs": [
        {
          "output_type": "execute_result",
          "data": {
            "text/plain": [
              "(65, 1)"
            ]
          },
          "metadata": {},
          "execution_count": 29
        }
      ],
      "source": [
        "dataset_test.shape"
      ],
      "id": "sxplQ0ShjqYX"
    },
    {
      "cell_type": "code",
      "execution_count": 30,
      "metadata": {
        "colab": {
          "base_uri": "https://localhost:8080/"
        },
        "id": "Z443KTUmvLP8",
        "outputId": "0ed1bca9-818d-4e27-8973-dacf8f5a50f2"
      },
      "outputs": [
        {
          "output_type": "execute_result",
          "data": {
            "text/plain": [
              "array([46.01639593, 45.42422756, 43.18814091, 40.13932504, 38.06003456,\n",
              "       37.16275304, 39.30598652, 43.63204044, 46.90532301, 47.88263263,\n",
              "       39.11404349, 30.72455735, 28.34702881, 28.39487624, 32.24409001,\n",
              "       45.57974227, 49.17723162, 40.20694923, 37.29348952, 46.93307437,\n",
              "       59.21959297, 63.3821655 , 58.85852074, 51.72855519, 48.42180227,\n",
              "       48.61831467, 50.48310188, 52.17903097, 51.41230022, 49.53991068,\n",
              "       38.65115849, 30.37988724, 28.82078896, 29.44410938, 31.33039351,\n",
              "       33.27896876, 31.39341708])"
            ]
          },
          "metadata": {},
          "execution_count": 30
        }
      ],
      "source": [
        "# Calculate mean absolute percentage error (MAPE) for each prediction\n",
        "mape = np.mean(np.abs((y_test - predicted_value) / y_test) * 100, axis=1)\n",
        "mape\n",
        "\n",
        "# Print the computed MAPE values for each prediction\n",
        "#for i, mape_value in enumerate(mape):\n",
        " #   print(f\"MAPE for prediction {i+1}: {mape_value:.2f}\")"
      ],
      "id": "Z443KTUmvLP8"
    },
    {
      "cell_type": "code",
      "source": [
        "import numpy as np\n",
        "\n",
        "# Assuming 'mape' is the array of MAPE values\n",
        "overall_mape = np.mean(mape)\n",
        "print(\"Overall MAPE:\", overall_mape)\n"
      ],
      "metadata": {
        "colab": {
          "base_uri": "https://localhost:8080/"
        },
        "id": "_ekzm_GgvnZF",
        "outputId": "a205b140-8bd5-494f-d227-0002aa11a236"
      },
      "id": "_ekzm_GgvnZF",
      "execution_count": 31,
      "outputs": [
        {
          "output_type": "stream",
          "name": "stdout",
          "text": [
            "Overall MAPE: 42.239836786068906\n"
          ]
        }
      ]
    },
    {
      "cell_type": "code",
      "source": [
        "mae = mean_absolute_error(y_test, predicted_value)\n",
        "mae"
      ],
      "metadata": {
        "colab": {
          "base_uri": "https://localhost:8080/"
        },
        "id": "ChfYQaZ4wJAc",
        "outputId": "fb516321-e9eb-4d84-fd6c-19a2e7aa93fb"
      },
      "id": "ChfYQaZ4wJAc",
      "execution_count": 32,
      "outputs": [
        {
          "output_type": "execute_result",
          "data": {
            "text/plain": [
              "0.9185886684379809"
            ]
          },
          "metadata": {},
          "execution_count": 32
        }
      ]
    },
    {
      "cell_type": "code",
      "source": [
        "#Calculate RMSE\n",
        "rmse = mean_squared_error(y_test, predicted_value,squared=False)\n",
        "rmse"
      ],
      "metadata": {
        "colab": {
          "base_uri": "https://localhost:8080/"
        },
        "id": "ZK02Nji2wm0D",
        "outputId": "b0d51721-9ab3-4d45-8c72-975e31356deb"
      },
      "id": "ZK02Nji2wm0D",
      "execution_count": 33,
      "outputs": [
        {
          "output_type": "execute_result",
          "data": {
            "text/plain": [
              "1.0733301012416983"
            ]
          },
          "metadata": {},
          "execution_count": 33
        }
      ]
    },
    {
      "cell_type": "code",
      "execution_count": 34,
      "metadata": {
        "colab": {
          "base_uri": "https://localhost:8080/",
          "height": 1000
        },
        "id": "9yDG3AyinLIQ",
        "outputId": "691cc875-37a9-4066-aee1-78c47acd69a9"
      },
      "outputs": [
        {
          "output_type": "error",
          "ename": "KeyError",
          "evalue": "ignored",
          "traceback": [
            "\u001b[0;31m---------------------------------------------------------------------------\u001b[0m",
            "\u001b[0;31mKeyError\u001b[0m                                  Traceback (most recent call last)",
            "\u001b[0;32m/usr/local/lib/python3.10/dist-packages/pandas/core/indexes/base.py\u001b[0m in \u001b[0;36mget_loc\u001b[0;34m(self, key, method, tolerance)\u001b[0m\n\u001b[1;32m   3801\u001b[0m             \u001b[0;32mtry\u001b[0m\u001b[0;34m:\u001b[0m\u001b[0;34m\u001b[0m\u001b[0;34m\u001b[0m\u001b[0m\n\u001b[0;32m-> 3802\u001b[0;31m                 \u001b[0;32mreturn\u001b[0m \u001b[0mself\u001b[0m\u001b[0;34m.\u001b[0m\u001b[0m_engine\u001b[0m\u001b[0;34m.\u001b[0m\u001b[0mget_loc\u001b[0m\u001b[0;34m(\u001b[0m\u001b[0mcasted_key\u001b[0m\u001b[0;34m)\u001b[0m\u001b[0;34m\u001b[0m\u001b[0;34m\u001b[0m\u001b[0m\n\u001b[0m\u001b[1;32m   3803\u001b[0m             \u001b[0;32mexcept\u001b[0m \u001b[0mKeyError\u001b[0m \u001b[0;32mas\u001b[0m \u001b[0merr\u001b[0m\u001b[0;34m:\u001b[0m\u001b[0;34m\u001b[0m\u001b[0;34m\u001b[0m\u001b[0m\n",
            "\u001b[0;32m/usr/local/lib/python3.10/dist-packages/pandas/_libs/index.pyx\u001b[0m in \u001b[0;36mpandas._libs.index.IndexEngine.get_loc\u001b[0;34m()\u001b[0m\n",
            "\u001b[0;32m/usr/local/lib/python3.10/dist-packages/pandas/_libs/index.pyx\u001b[0m in \u001b[0;36mpandas._libs.index.IndexEngine.get_loc\u001b[0;34m()\u001b[0m\n",
            "\u001b[0;32mpandas/_libs/hashtable_class_helper.pxi\u001b[0m in \u001b[0;36mpandas._libs.hashtable.PyObjectHashTable.get_item\u001b[0;34m()\u001b[0m\n",
            "\u001b[0;32mpandas/_libs/hashtable_class_helper.pxi\u001b[0m in \u001b[0;36mpandas._libs.hashtable.PyObjectHashTable.get_item\u001b[0;34m()\u001b[0m\n",
            "\u001b[0;31mKeyError\u001b[0m: 'Year'",
            "\nThe above exception was the direct cause of the following exception:\n",
            "\u001b[0;31mKeyError\u001b[0m                                  Traceback (most recent call last)",
            "\u001b[0;32m<ipython-input-34-e6bba9217b0e>\u001b[0m in \u001b[0;36m<cell line: 8>\u001b[0;34m()\u001b[0m\n\u001b[1;32m      6\u001b[0m \u001b[0mplt\u001b[0m\u001b[0;34m.\u001b[0m\u001b[0mxticks\u001b[0m\u001b[0;34m(\u001b[0m\u001b[0mrotation\u001b[0m\u001b[0;34m=\u001b[0m\u001b[0;36m45\u001b[0m\u001b[0;34m,\u001b[0m \u001b[0mha\u001b[0m\u001b[0;34m=\u001b[0m\u001b[0;34m'right'\u001b[0m\u001b[0;34m)\u001b[0m\u001b[0;34m\u001b[0m\u001b[0;34m\u001b[0m\u001b[0m\n\u001b[1;32m      7\u001b[0m \u001b[0;34m\u001b[0m\u001b[0m\n\u001b[0;32m----> 8\u001b[0;31m \u001b[0mplt\u001b[0m\u001b[0;34m.\u001b[0m\u001b[0mplot\u001b[0m\u001b[0;34m(\u001b[0m\u001b[0mdf\u001b[0m\u001b[0;34m.\u001b[0m\u001b[0mloc\u001b[0m\u001b[0;34m[\u001b[0m\u001b[0;36m60\u001b[0m\u001b[0;34m:\u001b[0m\u001b[0;34m,\u001b[0m \u001b[0;34m'Year'\u001b[0m\u001b[0;34m]\u001b[0m\u001b[0;34m,\u001b[0m\u001b[0mdataset_test\u001b[0m\u001b[0;34m.\u001b[0m\u001b[0mvalues\u001b[0m\u001b[0;34m,\u001b[0m \u001b[0mcolor\u001b[0m \u001b[0;34m=\u001b[0m \u001b[0;34m'red'\u001b[0m\u001b[0;34m,\u001b[0m \u001b[0mlabel\u001b[0m \u001b[0;34m=\u001b[0m \u001b[0;34m'Real Domestic Debt Value'\u001b[0m\u001b[0;34m)\u001b[0m\u001b[0;34m\u001b[0m\u001b[0;34m\u001b[0m\u001b[0m\n\u001b[0m\u001b[1;32m      9\u001b[0m \u001b[0mplt\u001b[0m\u001b[0;34m.\u001b[0m\u001b[0mplot\u001b[0m\u001b[0;34m(\u001b[0m\u001b[0mdf\u001b[0m\u001b[0;34m.\u001b[0m\u001b[0mloc\u001b[0m\u001b[0;34m[\u001b[0m\u001b[0;36m60\u001b[0m\u001b[0;34m:\u001b[0m\u001b[0;34m,\u001b[0m \u001b[0;34m'Year'\u001b[0m\u001b[0;34m]\u001b[0m\u001b[0;34m,\u001b[0m\u001b[0mpredicted_value\u001b[0m\u001b[0;34m,\u001b[0m \u001b[0mcolor\u001b[0m \u001b[0;34m=\u001b[0m \u001b[0;34m'blue'\u001b[0m\u001b[0;34m,\u001b[0m \u001b[0mlabel\u001b[0m \u001b[0;34m=\u001b[0m \u001b[0;34m'Predicted Domestic Debt Value'\u001b[0m\u001b[0;34m)\u001b[0m\u001b[0;34m\u001b[0m\u001b[0;34m\u001b[0m\u001b[0m\n\u001b[1;32m     10\u001b[0m \u001b[0mplt\u001b[0m\u001b[0;34m.\u001b[0m\u001b[0mxticks\u001b[0m\u001b[0;34m(\u001b[0m\u001b[0mnp\u001b[0m\u001b[0;34m.\u001b[0m\u001b[0marange\u001b[0m\u001b[0;34m(\u001b[0m\u001b[0;36m0\u001b[0m\u001b[0;34m,\u001b[0m\u001b[0;36m40\u001b[0m\u001b[0;34m,\u001b[0m\u001b[0;36m4\u001b[0m\u001b[0;34m)\u001b[0m\u001b[0;34m)\u001b[0m\u001b[0;34m\u001b[0m\u001b[0;34m\u001b[0m\u001b[0m\n",
            "\u001b[0;32m/usr/local/lib/python3.10/dist-packages/pandas/core/indexing.py\u001b[0m in \u001b[0;36m__getitem__\u001b[0;34m(self, key)\u001b[0m\n\u001b[1;32m   1065\u001b[0m             \u001b[0;32mif\u001b[0m \u001b[0mself\u001b[0m\u001b[0;34m.\u001b[0m\u001b[0m_is_scalar_access\u001b[0m\u001b[0;34m(\u001b[0m\u001b[0mkey\u001b[0m\u001b[0;34m)\u001b[0m\u001b[0;34m:\u001b[0m\u001b[0;34m\u001b[0m\u001b[0;34m\u001b[0m\u001b[0m\n\u001b[1;32m   1066\u001b[0m                 \u001b[0;32mreturn\u001b[0m \u001b[0mself\u001b[0m\u001b[0;34m.\u001b[0m\u001b[0mobj\u001b[0m\u001b[0;34m.\u001b[0m\u001b[0m_get_value\u001b[0m\u001b[0;34m(\u001b[0m\u001b[0;34m*\u001b[0m\u001b[0mkey\u001b[0m\u001b[0;34m,\u001b[0m \u001b[0mtakeable\u001b[0m\u001b[0;34m=\u001b[0m\u001b[0mself\u001b[0m\u001b[0;34m.\u001b[0m\u001b[0m_takeable\u001b[0m\u001b[0;34m)\u001b[0m\u001b[0;34m\u001b[0m\u001b[0;34m\u001b[0m\u001b[0m\n\u001b[0;32m-> 1067\u001b[0;31m             \u001b[0;32mreturn\u001b[0m \u001b[0mself\u001b[0m\u001b[0;34m.\u001b[0m\u001b[0m_getitem_tuple\u001b[0m\u001b[0;34m(\u001b[0m\u001b[0mkey\u001b[0m\u001b[0;34m)\u001b[0m\u001b[0;34m\u001b[0m\u001b[0;34m\u001b[0m\u001b[0m\n\u001b[0m\u001b[1;32m   1068\u001b[0m         \u001b[0;32melse\u001b[0m\u001b[0;34m:\u001b[0m\u001b[0;34m\u001b[0m\u001b[0;34m\u001b[0m\u001b[0m\n\u001b[1;32m   1069\u001b[0m             \u001b[0;31m# we by definition only have the 0th axis\u001b[0m\u001b[0;34m\u001b[0m\u001b[0;34m\u001b[0m\u001b[0m\n",
            "\u001b[0;32m/usr/local/lib/python3.10/dist-packages/pandas/core/indexing.py\u001b[0m in \u001b[0;36m_getitem_tuple\u001b[0;34m(self, tup)\u001b[0m\n\u001b[1;32m   1245\u001b[0m         \u001b[0;32mwith\u001b[0m \u001b[0msuppress\u001b[0m\u001b[0;34m(\u001b[0m\u001b[0mIndexingError\u001b[0m\u001b[0;34m)\u001b[0m\u001b[0;34m:\u001b[0m\u001b[0;34m\u001b[0m\u001b[0;34m\u001b[0m\u001b[0m\n\u001b[1;32m   1246\u001b[0m             \u001b[0mtup\u001b[0m \u001b[0;34m=\u001b[0m \u001b[0mself\u001b[0m\u001b[0;34m.\u001b[0m\u001b[0m_expand_ellipsis\u001b[0m\u001b[0;34m(\u001b[0m\u001b[0mtup\u001b[0m\u001b[0;34m)\u001b[0m\u001b[0;34m\u001b[0m\u001b[0;34m\u001b[0m\u001b[0m\n\u001b[0;32m-> 1247\u001b[0;31m             \u001b[0;32mreturn\u001b[0m \u001b[0mself\u001b[0m\u001b[0;34m.\u001b[0m\u001b[0m_getitem_lowerdim\u001b[0m\u001b[0;34m(\u001b[0m\u001b[0mtup\u001b[0m\u001b[0;34m)\u001b[0m\u001b[0;34m\u001b[0m\u001b[0;34m\u001b[0m\u001b[0m\n\u001b[0m\u001b[1;32m   1248\u001b[0m \u001b[0;34m\u001b[0m\u001b[0m\n\u001b[1;32m   1249\u001b[0m         \u001b[0;31m# no multi-index, so validate all of the indexers\u001b[0m\u001b[0;34m\u001b[0m\u001b[0;34m\u001b[0m\u001b[0m\n",
            "\u001b[0;32m/usr/local/lib/python3.10/dist-packages/pandas/core/indexing.py\u001b[0m in \u001b[0;36m_getitem_lowerdim\u001b[0;34m(self, tup)\u001b[0m\n\u001b[1;32m    965\u001b[0m                 \u001b[0;31m# We don't need to check for tuples here because those are\u001b[0m\u001b[0;34m\u001b[0m\u001b[0;34m\u001b[0m\u001b[0m\n\u001b[1;32m    966\u001b[0m                 \u001b[0;31m#  caught by the _is_nested_tuple_indexer check above.\u001b[0m\u001b[0;34m\u001b[0m\u001b[0;34m\u001b[0m\u001b[0m\n\u001b[0;32m--> 967\u001b[0;31m                 \u001b[0msection\u001b[0m \u001b[0;34m=\u001b[0m \u001b[0mself\u001b[0m\u001b[0;34m.\u001b[0m\u001b[0m_getitem_axis\u001b[0m\u001b[0;34m(\u001b[0m\u001b[0mkey\u001b[0m\u001b[0;34m,\u001b[0m \u001b[0maxis\u001b[0m\u001b[0;34m=\u001b[0m\u001b[0mi\u001b[0m\u001b[0;34m)\u001b[0m\u001b[0;34m\u001b[0m\u001b[0;34m\u001b[0m\u001b[0m\n\u001b[0m\u001b[1;32m    968\u001b[0m \u001b[0;34m\u001b[0m\u001b[0m\n\u001b[1;32m    969\u001b[0m                 \u001b[0;31m# We should never have a scalar section here, because\u001b[0m\u001b[0;34m\u001b[0m\u001b[0;34m\u001b[0m\u001b[0m\n",
            "\u001b[0;32m/usr/local/lib/python3.10/dist-packages/pandas/core/indexing.py\u001b[0m in \u001b[0;36m_getitem_axis\u001b[0;34m(self, key, axis)\u001b[0m\n\u001b[1;32m   1310\u001b[0m         \u001b[0;31m# fall thru to straight lookup\u001b[0m\u001b[0;34m\u001b[0m\u001b[0;34m\u001b[0m\u001b[0m\n\u001b[1;32m   1311\u001b[0m         \u001b[0mself\u001b[0m\u001b[0;34m.\u001b[0m\u001b[0m_validate_key\u001b[0m\u001b[0;34m(\u001b[0m\u001b[0mkey\u001b[0m\u001b[0;34m,\u001b[0m \u001b[0maxis\u001b[0m\u001b[0;34m)\u001b[0m\u001b[0;34m\u001b[0m\u001b[0;34m\u001b[0m\u001b[0m\n\u001b[0;32m-> 1312\u001b[0;31m         \u001b[0;32mreturn\u001b[0m \u001b[0mself\u001b[0m\u001b[0;34m.\u001b[0m\u001b[0m_get_label\u001b[0m\u001b[0;34m(\u001b[0m\u001b[0mkey\u001b[0m\u001b[0;34m,\u001b[0m \u001b[0maxis\u001b[0m\u001b[0;34m=\u001b[0m\u001b[0maxis\u001b[0m\u001b[0;34m)\u001b[0m\u001b[0;34m\u001b[0m\u001b[0;34m\u001b[0m\u001b[0m\n\u001b[0m\u001b[1;32m   1313\u001b[0m \u001b[0;34m\u001b[0m\u001b[0m\n\u001b[1;32m   1314\u001b[0m     \u001b[0;32mdef\u001b[0m \u001b[0m_get_slice_axis\u001b[0m\u001b[0;34m(\u001b[0m\u001b[0mself\u001b[0m\u001b[0;34m,\u001b[0m \u001b[0mslice_obj\u001b[0m\u001b[0;34m:\u001b[0m \u001b[0mslice\u001b[0m\u001b[0;34m,\u001b[0m \u001b[0maxis\u001b[0m\u001b[0;34m:\u001b[0m \u001b[0mint\u001b[0m\u001b[0;34m)\u001b[0m\u001b[0;34m:\u001b[0m\u001b[0;34m\u001b[0m\u001b[0;34m\u001b[0m\u001b[0m\n",
            "\u001b[0;32m/usr/local/lib/python3.10/dist-packages/pandas/core/indexing.py\u001b[0m in \u001b[0;36m_get_label\u001b[0;34m(self, label, axis)\u001b[0m\n\u001b[1;32m   1258\u001b[0m     \u001b[0;32mdef\u001b[0m \u001b[0m_get_label\u001b[0m\u001b[0;34m(\u001b[0m\u001b[0mself\u001b[0m\u001b[0;34m,\u001b[0m \u001b[0mlabel\u001b[0m\u001b[0;34m,\u001b[0m \u001b[0maxis\u001b[0m\u001b[0;34m:\u001b[0m \u001b[0mint\u001b[0m\u001b[0;34m)\u001b[0m\u001b[0;34m:\u001b[0m\u001b[0;34m\u001b[0m\u001b[0;34m\u001b[0m\u001b[0m\n\u001b[1;32m   1259\u001b[0m         \u001b[0;31m# GH#5567 this will fail if the label is not present in the axis.\u001b[0m\u001b[0;34m\u001b[0m\u001b[0;34m\u001b[0m\u001b[0m\n\u001b[0;32m-> 1260\u001b[0;31m         \u001b[0;32mreturn\u001b[0m \u001b[0mself\u001b[0m\u001b[0;34m.\u001b[0m\u001b[0mobj\u001b[0m\u001b[0;34m.\u001b[0m\u001b[0mxs\u001b[0m\u001b[0;34m(\u001b[0m\u001b[0mlabel\u001b[0m\u001b[0;34m,\u001b[0m \u001b[0maxis\u001b[0m\u001b[0;34m=\u001b[0m\u001b[0maxis\u001b[0m\u001b[0;34m)\u001b[0m\u001b[0;34m\u001b[0m\u001b[0;34m\u001b[0m\u001b[0m\n\u001b[0m\u001b[1;32m   1261\u001b[0m \u001b[0;34m\u001b[0m\u001b[0m\n\u001b[1;32m   1262\u001b[0m     \u001b[0;32mdef\u001b[0m \u001b[0m_handle_lowerdim_multi_index_axis0\u001b[0m\u001b[0;34m(\u001b[0m\u001b[0mself\u001b[0m\u001b[0;34m,\u001b[0m \u001b[0mtup\u001b[0m\u001b[0;34m:\u001b[0m \u001b[0mtuple\u001b[0m\u001b[0;34m)\u001b[0m\u001b[0;34m:\u001b[0m\u001b[0;34m\u001b[0m\u001b[0;34m\u001b[0m\u001b[0m\n",
            "\u001b[0;32m/usr/local/lib/python3.10/dist-packages/pandas/core/generic.py\u001b[0m in \u001b[0;36mxs\u001b[0;34m(self, key, axis, level, drop_level)\u001b[0m\n\u001b[1;32m   4039\u001b[0m         \u001b[0;32mif\u001b[0m \u001b[0maxis\u001b[0m \u001b[0;34m==\u001b[0m \u001b[0;36m1\u001b[0m\u001b[0;34m:\u001b[0m\u001b[0;34m\u001b[0m\u001b[0;34m\u001b[0m\u001b[0m\n\u001b[1;32m   4040\u001b[0m             \u001b[0;32mif\u001b[0m \u001b[0mdrop_level\u001b[0m\u001b[0;34m:\u001b[0m\u001b[0;34m\u001b[0m\u001b[0;34m\u001b[0m\u001b[0m\n\u001b[0;32m-> 4041\u001b[0;31m                 \u001b[0;32mreturn\u001b[0m \u001b[0mself\u001b[0m\u001b[0;34m[\u001b[0m\u001b[0mkey\u001b[0m\u001b[0;34m]\u001b[0m\u001b[0;34m\u001b[0m\u001b[0;34m\u001b[0m\u001b[0m\n\u001b[0m\u001b[1;32m   4042\u001b[0m             \u001b[0mindex\u001b[0m \u001b[0;34m=\u001b[0m \u001b[0mself\u001b[0m\u001b[0;34m.\u001b[0m\u001b[0mcolumns\u001b[0m\u001b[0;34m\u001b[0m\u001b[0;34m\u001b[0m\u001b[0m\n\u001b[1;32m   4043\u001b[0m         \u001b[0;32melse\u001b[0m\u001b[0;34m:\u001b[0m\u001b[0;34m\u001b[0m\u001b[0;34m\u001b[0m\u001b[0m\n",
            "\u001b[0;32m/usr/local/lib/python3.10/dist-packages/pandas/core/frame.py\u001b[0m in \u001b[0;36m__getitem__\u001b[0;34m(self, key)\u001b[0m\n\u001b[1;32m   3805\u001b[0m             \u001b[0;32mif\u001b[0m \u001b[0mself\u001b[0m\u001b[0;34m.\u001b[0m\u001b[0mcolumns\u001b[0m\u001b[0;34m.\u001b[0m\u001b[0mnlevels\u001b[0m \u001b[0;34m>\u001b[0m \u001b[0;36m1\u001b[0m\u001b[0;34m:\u001b[0m\u001b[0;34m\u001b[0m\u001b[0;34m\u001b[0m\u001b[0m\n\u001b[1;32m   3806\u001b[0m                 \u001b[0;32mreturn\u001b[0m \u001b[0mself\u001b[0m\u001b[0;34m.\u001b[0m\u001b[0m_getitem_multilevel\u001b[0m\u001b[0;34m(\u001b[0m\u001b[0mkey\u001b[0m\u001b[0;34m)\u001b[0m\u001b[0;34m\u001b[0m\u001b[0;34m\u001b[0m\u001b[0m\n\u001b[0;32m-> 3807\u001b[0;31m             \u001b[0mindexer\u001b[0m \u001b[0;34m=\u001b[0m \u001b[0mself\u001b[0m\u001b[0;34m.\u001b[0m\u001b[0mcolumns\u001b[0m\u001b[0;34m.\u001b[0m\u001b[0mget_loc\u001b[0m\u001b[0;34m(\u001b[0m\u001b[0mkey\u001b[0m\u001b[0;34m)\u001b[0m\u001b[0;34m\u001b[0m\u001b[0;34m\u001b[0m\u001b[0m\n\u001b[0m\u001b[1;32m   3808\u001b[0m             \u001b[0;32mif\u001b[0m \u001b[0mis_integer\u001b[0m\u001b[0;34m(\u001b[0m\u001b[0mindexer\u001b[0m\u001b[0;34m)\u001b[0m\u001b[0;34m:\u001b[0m\u001b[0;34m\u001b[0m\u001b[0;34m\u001b[0m\u001b[0m\n\u001b[1;32m   3809\u001b[0m                 \u001b[0mindexer\u001b[0m \u001b[0;34m=\u001b[0m \u001b[0;34m[\u001b[0m\u001b[0mindexer\u001b[0m\u001b[0;34m]\u001b[0m\u001b[0;34m\u001b[0m\u001b[0;34m\u001b[0m\u001b[0m\n",
            "\u001b[0;32m/usr/local/lib/python3.10/dist-packages/pandas/core/indexes/base.py\u001b[0m in \u001b[0;36mget_loc\u001b[0;34m(self, key, method, tolerance)\u001b[0m\n\u001b[1;32m   3802\u001b[0m                 \u001b[0;32mreturn\u001b[0m \u001b[0mself\u001b[0m\u001b[0;34m.\u001b[0m\u001b[0m_engine\u001b[0m\u001b[0;34m.\u001b[0m\u001b[0mget_loc\u001b[0m\u001b[0;34m(\u001b[0m\u001b[0mcasted_key\u001b[0m\u001b[0;34m)\u001b[0m\u001b[0;34m\u001b[0m\u001b[0;34m\u001b[0m\u001b[0m\n\u001b[1;32m   3803\u001b[0m             \u001b[0;32mexcept\u001b[0m \u001b[0mKeyError\u001b[0m \u001b[0;32mas\u001b[0m \u001b[0merr\u001b[0m\u001b[0;34m:\u001b[0m\u001b[0;34m\u001b[0m\u001b[0;34m\u001b[0m\u001b[0m\n\u001b[0;32m-> 3804\u001b[0;31m                 \u001b[0;32mraise\u001b[0m \u001b[0mKeyError\u001b[0m\u001b[0;34m(\u001b[0m\u001b[0mkey\u001b[0m\u001b[0;34m)\u001b[0m \u001b[0;32mfrom\u001b[0m \u001b[0merr\u001b[0m\u001b[0;34m\u001b[0m\u001b[0;34m\u001b[0m\u001b[0m\n\u001b[0m\u001b[1;32m   3805\u001b[0m             \u001b[0;32mexcept\u001b[0m \u001b[0mTypeError\u001b[0m\u001b[0;34m:\u001b[0m\u001b[0;34m\u001b[0m\u001b[0;34m\u001b[0m\u001b[0m\n\u001b[1;32m   3806\u001b[0m                 \u001b[0;31m# If we have a listlike key, _check_indexing_error will raise\u001b[0m\u001b[0;34m\u001b[0m\u001b[0;34m\u001b[0m\u001b[0m\n",
            "\u001b[0;31mKeyError\u001b[0m: 'Year'"
          ]
        },
        {
          "output_type": "display_data",
          "data": {
            "text/plain": [
              "<Figure size 1000x600 with 1 Axes>"
            ],
            "image/png": "[encoded data removed]"
          },
          "metadata": {}
        }
      ],
      "source": [
        "# Visualising the results\n",
        "# Adjust the figure size to accommodate the x-axis labels\n",
        "plt.figure(figsize=(10, 6))  # Set the desired figure size\n",
        "\n",
        "# Rotate the tick labels and align them to the right\n",
        "plt.xticks(rotation=45, ha='right')\n",
        "\n",
        "plt.plot(df.loc[60:, 'Year'],dataset_test.values, color = 'red', label = 'Real Domestic Debt Value')\n",
        "plt.plot(df.loc[60:, 'Year'],predicted_value, color = 'blue', label = 'Predicted Domestic Debt Value')\n",
        "plt.xticks(np.arange(0,40,4))\n",
        "plt.title('Domestic Debt Value Prediction')\n",
        "plt.xlabel('Time')\n",
        "plt.ylabel('Domestic Debt Value')\n",
        "plt.legend()\n",
        "\n",
        "\n",
        "plt.show()"
      ],
      "id": "9yDG3AyinLIQ"
    },
    {
      "cell_type": "code",
      "execution_count": null,
      "metadata": {
        "id": "O90WaA7O5i5O"
      },
      "outputs": [],
      "source": [
        "# Extend the dataset to include the future time period\n",
        "dataset_extended = pd.concat([dataset_total, pd.DataFrame(inputs)], axis=0)\n",
        "\n",
        "# Generate future time steps for prediction\n",
        "future_steps = 5 * 4  # 5 years * 4 quarters/year\n",
        "\n",
        "# Initialize an array to store the predicted values\n",
        "predictions = []\n",
        "\n",
        "# Make predictions for each future time step\n",
        "for _ in range(future_steps):\n",
        "    # Reshape the input data to match the model's input shape\n",
        "    input_data = dataset_extended[-60:].values\n",
        "    input_data = input_data.reshape(1, -1, 1)\n",
        "\n",
        "    # Use the model to make predictions\n",
        "    predicted_value = model.predict(input_data)\n",
        "\n",
        "    # Append the predicted value to the predictions array\n",
        "    predictions.append(predicted_value[0, 0])\n",
        "\n",
        "    # Update the input data with the predicted value for the next time step\n",
        "    dataset_extended = pd.concat([dataset_extended, pd.DataFrame(predicted_value)], axis=0)\n",
        "\n",
        "# Convert the predictions array to a numpy array\n",
        "predictions = np.array(predictions)\n",
        "\n",
        "# Print the predicted values for the future period\n",
        "print(predictions)\n"
      ],
      "id": "O90WaA7O5i5O"
    }
  ],
  "metadata": {
    "accelerator": "GPU",
    "colab": {
      "provenance": []
    },
    "kernelspec": {
      "display_name": "Python 3",
      "name": "python3"
    },
    "language_info": {
      "codemirror_mode": {
        "name": "ipython",
        "version": 3
      },
      "file_extension": ".py",
      "mimetype": "text/x-python",
      "name": "python",
      "nbconvert_exporter": "python",
      "pygments_lexer": "ipython3",
      "version": "3.10.11"
    }
  },
  "nbformat": 4,
  "nbformat_minor": 5
}