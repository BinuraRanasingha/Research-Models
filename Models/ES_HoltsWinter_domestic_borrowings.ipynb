{
 "cells": [
  {
   "cell_type": "code",
   "execution_count": 1,
   "id": "050e0183",
   "metadata": {},
   "outputs": [],
   "source": [
    "#Loading the necessary libraries\n",
    "import numpy as np\n",
    "import pandas as pd\n",
    "import matplotlib.pyplot as plt\n",
    "from sklearn.metrics import mean_absolute_error, mean_squared_error\n",
    "from statsmodels.tsa.holtwinters import ExponentialSmoothing\n",
    "from sklearn.model_selection import train_test_split\n",
    "from sklearn.preprocessing import StandardScaler"
   ]
  },
  {
   "cell_type": "code",
   "execution_count": 2,
   "id": "c25f90b7",
   "metadata": {},
   "outputs": [
    {
     "data": {
      "text/html": [
       "<div>\n",
       "<style scoped>\n",
       "    .dataframe tbody tr th:only-of-type {\n",
       "        vertical-align: middle;\n",
       "    }\n",
       "\n",
       "    .dataframe tbody tr th {\n",
       "        vertical-align: top;\n",
       "    }\n",
       "\n",
       "    .dataframe thead th {\n",
       "        text-align: right;\n",
       "    }\n",
       "</style>\n",
       "<table border=\"1\" class=\"dataframe\">\n",
       "  <thead>\n",
       "    <tr style=\"text-align: right;\">\n",
       "      <th></th>\n",
       "      <th>Year</th>\n",
       "      <th>DomesticDebt_adjust</th>\n",
       "    </tr>\n",
       "  </thead>\n",
       "  <tbody>\n",
       "    <tr>\n",
       "      <th>0</th>\n",
       "      <td>1990-03-31</td>\n",
       "      <td>14337.301563</td>\n",
       "    </tr>\n",
       "    <tr>\n",
       "      <th>1</th>\n",
       "      <td>1990-06-30</td>\n",
       "      <td>14002.819688</td>\n",
       "    </tr>\n",
       "    <tr>\n",
       "      <th>2</th>\n",
       "      <td>1990-09-30</td>\n",
       "      <td>14331.459062</td>\n",
       "    </tr>\n",
       "    <tr>\n",
       "      <th>3</th>\n",
       "      <td>1990-12-31</td>\n",
       "      <td>15323.219687</td>\n",
       "    </tr>\n",
       "    <tr>\n",
       "      <th>4</th>\n",
       "      <td>1991-03-31</td>\n",
       "      <td>16978.101563</td>\n",
       "    </tr>\n",
       "    <tr>\n",
       "      <th>5</th>\n",
       "      <td>1991-06-30</td>\n",
       "      <td>15833.919688</td>\n",
       "    </tr>\n",
       "    <tr>\n",
       "      <th>6</th>\n",
       "      <td>1991-09-30</td>\n",
       "      <td>15352.859062</td>\n",
       "    </tr>\n",
       "    <tr>\n",
       "      <th>7</th>\n",
       "      <td>1991-12-31</td>\n",
       "      <td>15534.919687</td>\n",
       "    </tr>\n",
       "    <tr>\n",
       "      <th>8</th>\n",
       "      <td>1992-03-31</td>\n",
       "      <td>16380.101563</td>\n",
       "    </tr>\n",
       "    <tr>\n",
       "      <th>9</th>\n",
       "      <td>1992-06-30</td>\n",
       "      <td>17557.744688</td>\n",
       "    </tr>\n",
       "  </tbody>\n",
       "</table>\n",
       "</div>"
      ],
      "text/plain": [
       "        Year   DomesticDebt_adjust\n",
       "0  1990-03-31         14337.301563\n",
       "1  1990-06-30         14002.819688\n",
       "2  1990-09-30         14331.459062\n",
       "3  1990-12-31         15323.219687\n",
       "4  1991-03-31         16978.101563\n",
       "5  1991-06-30         15833.919688\n",
       "6  1991-09-30         15352.859062\n",
       "7  1991-12-31         15534.919687\n",
       "8  1992-03-31         16380.101563\n",
       "9  1992-06-30         17557.744688"
      ]
     },
     "execution_count": 2,
     "metadata": {},
     "output_type": "execute_result"
    }
   ],
   "source": [
    "#Importing the quartely divided dataset\n",
    "quarter_dom_ES = pd.read_csv('C:\\\\Users\\\\User\\\\Desktop\\\\Research_code\\\\quarter_data_domestic.csv')\n",
    "quarter_dom_ES.head(10)"
   ]
  },
  {
   "cell_type": "code",
   "execution_count": 3,
   "id": "1284afcf",
   "metadata": {},
   "outputs": [
    {
     "data": {
      "text/plain": [
       "Year                   0\n",
       "DomesticDebt_adjust    0\n",
       "dtype: int64"
      ]
     },
     "execution_count": 3,
     "metadata": {},
     "output_type": "execute_result"
    }
   ],
   "source": [
    "#Checking for null values\n",
    "quarter_dom_ES.isnull().sum()"
   ]
  },
  {
   "cell_type": "markdown",
   "id": "f8e868db",
   "metadata": {},
   "source": [
    "* As per the results above there are no null values in the decomposed dataset."
   ]
  },
  {
   "cell_type": "code",
   "execution_count": 4,
   "id": "4e441e2d",
   "metadata": {},
   "outputs": [
    {
     "data": {
      "text/plain": [
       "0"
      ]
     },
     "execution_count": 4,
     "metadata": {},
     "output_type": "execute_result"
    }
   ],
   "source": [
    "#Checking for duplicates\n",
    "quarter_dom_ES.duplicated().sum()"
   ]
  },
  {
   "cell_type": "markdown",
   "id": "b5dbba71",
   "metadata": {},
   "source": [
    "* As shown above there are no duplicate values."
   ]
  },
  {
   "cell_type": "code",
   "execution_count": 5,
   "id": "b269e608",
   "metadata": {},
   "outputs": [
    {
     "data": {
      "text/plain": [
       "(125, 2)"
      ]
     },
     "execution_count": 5,
     "metadata": {},
     "output_type": "execute_result"
    }
   ],
   "source": [
    "quarter_dom_ES.shape"
   ]
  },
  {
   "cell_type": "code",
   "execution_count": 6,
   "id": "c5e3bfdd",
   "metadata": {},
   "outputs": [
    {
     "name": "stdout",
     "output_type": "stream",
     "text": [
      "<class 'pandas.core.frame.DataFrame'>\n",
      "RangeIndex: 125 entries, 0 to 124\n",
      "Data columns (total 2 columns):\n",
      " #   Column               Non-Null Count  Dtype  \n",
      "---  ------               --------------  -----  \n",
      " 0   Year                 125 non-null    object \n",
      " 1   DomesticDebt_adjust  125 non-null    float64\n",
      "dtypes: float64(1), object(1)\n",
      "memory usage: 2.1+ KB\n"
     ]
    }
   ],
   "source": [
    "quarter_dom_ES.info()"
   ]
  },
  {
   "cell_type": "code",
   "execution_count": 7,
   "id": "d0a33a0a",
   "metadata": {},
   "outputs": [
    {
     "name": "stdout",
     "output_type": "stream",
     "text": [
      "True\n"
     ]
    }
   ],
   "source": [
    "quarter_dom_ES=quarter_dom_ES.set_index('Year ')\n",
    "is_year_index = 'Year ' in quarter_dom_ES.index.names\n",
    "print(is_year_index)"
   ]
  },
  {
   "cell_type": "code",
   "execution_count": 8,
   "id": "ba48d3f7",
   "metadata": {},
   "outputs": [],
   "source": [
    "train, test = train_test_split(quarter_dom_ES, train_size = 0.8, random_state = 42) "
   ]
  },
  {
   "cell_type": "code",
   "execution_count": 9,
   "id": "2eeb21a6",
   "metadata": {},
   "outputs": [],
   "source": [
    "scaler = StandardScaler()\n",
    "train_scaled = scaler.fit_transform(train)\n",
    "test_scaled = scaler.fit_transform(test)"
   ]
  },
  {
   "cell_type": "code",
   "execution_count": 10,
   "id": "5bed9ef1",
   "metadata": {},
   "outputs": [],
   "source": [
    "#Creating the exponential smoothing model\n",
    "model = ExponentialSmoothing(train_scaled, trend='add', seasonal='add', seasonal_periods=12)"
   ]
  },
  {
   "cell_type": "code",
   "execution_count": 11,
   "id": "bd984b56",
   "metadata": {},
   "outputs": [],
   "source": [
    "#Fitting the model\n",
    "model_fit = model.fit()"
   ]
  },
  {
   "cell_type": "markdown",
   "id": "4422009b",
   "metadata": {},
   "source": [
    "# Split the data into training and testing sets\n",
    "train_data, test_data = train_test_split(quarter_dom_ES['DomesticDebt_adjust'], train_size=0.8)"
   ]
  },
  {
   "cell_type": "code",
   "execution_count": 12,
   "id": "aacbf9e9",
   "metadata": {},
   "outputs": [
    {
     "data": {
      "text/plain": [
       "array([[294437.91727491, 255242.14210986, 222630.28121432,\n",
       "        407332.78836486, 392110.06243457, 369741.61448373,\n",
       "        269208.00630234, 172828.43307475, 875401.09590688,\n",
       "        300514.06447369, 245674.41431655, 343503.38589844,\n",
       "        310918.23159004, 271722.456425  , 239110.59552945,\n",
       "        423813.10267999, 408590.3767497 , 386221.92879886,\n",
       "        285688.32061748, 189308.74738988, 891881.41022201,\n",
       "        316994.37878882, 262154.72863169, 359983.70021358,\n",
       "        327398.54590518]])"
      ]
     },
     "execution_count": 12,
     "metadata": {},
     "output_type": "execute_result"
    }
   ],
   "source": [
    "#Making predcitions to check the model accuracy\n",
    "forecast = model.predict(start=len(train_scaled), end=len(train_scaled)+len(test_scaled)-1,params=model_fit.params)\n",
    "forecast_original = scaler.inverse_transform([forecast])\n",
    "forecast_original\n",
    "#Making predictions from the ES model to check model accuracy\n",
    "#preds = model_fit.forecast(71)\n",
    "#preds"
   ]
  },
  {
   "cell_type": "code",
   "execution_count": 13,
   "id": "f91f6b5c",
   "metadata": {},
   "outputs": [
    {
     "data": {
      "text/plain": [
       "(25, 1)"
      ]
     },
     "execution_count": 13,
     "metadata": {},
     "output_type": "execute_result"
    }
   ],
   "source": [
    "test_scaled.shape"
   ]
  },
  {
   "cell_type": "code",
   "execution_count": 14,
   "id": "9afad1e8",
   "metadata": {},
   "outputs": [
    {
     "data": {
      "text/plain": [
       "(25,)"
      ]
     },
     "execution_count": 14,
     "metadata": {},
     "output_type": "execute_result"
    }
   ],
   "source": [
    "forecast.shape"
   ]
  },
  {
   "cell_type": "code",
   "execution_count": 15,
   "id": "bdf0cdb4",
   "metadata": {},
   "outputs": [
    {
     "name": "stdout",
     "output_type": "stream",
     "text": [
      "MAE: 0.789574203640948\n",
      "MSE: 1.3183414019908044\n",
      "RMSE: 1.1481904902893092\n",
      "MAPE: 155.81500329194202\n"
     ]
    }
   ],
   "source": [
    "# Calculating mean absolute error (MAE)\n",
    "mae = mean_absolute_error(test_scaled, forecast)\n",
    "\n",
    "# Calculating mean squared error (MSE)\n",
    "mse = mean_squared_error(test_scaled, forecast)\n",
    "\n",
    "# Calculating root mean squared error (RMSE)\n",
    "rmse = np.sqrt(mse)\n",
    "\n",
    "# Calculating mean absolute percentage error (MAPE)\n",
    "mape = np.mean(np.abs((test_scaled - forecast) / test_scaled)) * 100\n",
    "\n",
    "# Printing the computed metrics\n",
    "print(\"MAE:\", mae)\n",
    "print(\"MSE:\", mse)\n",
    "print(\"RMSE:\", rmse)\n",
    "print(\"MAPE:\", mape)"
   ]
  },
  {
   "cell_type": "code",
   "execution_count": 16,
   "id": "89abdf96",
   "metadata": {},
   "outputs": [
    {
     "ename": "NameError",
     "evalue": "name 'train_data' is not defined",
     "output_type": "error",
     "traceback": [
      "\u001b[1;31m---------------------------------------------------------------------------\u001b[0m",
      "\u001b[1;31mNameError\u001b[0m                                 Traceback (most recent call last)",
      "Cell \u001b[1;32mIn[16], line 6\u001b[0m\n\u001b[0;32m      4\u001b[0m \u001b[38;5;66;03m#date_range = pd.date_range(start=start_date, end=end_date, freq='Q')\u001b[39;00m\n\u001b[0;32m      5\u001b[0m date_range \u001b[38;5;241m=\u001b[39m pd\u001b[38;5;241m.\u001b[39mdate_range(start\u001b[38;5;241m=\u001b[39mstart_date, end\u001b[38;5;241m=\u001b[39mend_date, freq\u001b[38;5;241m=\u001b[39m\u001b[38;5;124m'\u001b[39m\u001b[38;5;124mY\u001b[39m\u001b[38;5;124m'\u001b[39m)\n\u001b[1;32m----> 6\u001b[0m forecast_mod \u001b[38;5;241m=\u001b[39m model\u001b[38;5;241m.\u001b[39mpredict(start\u001b[38;5;241m=\u001b[39m\u001b[38;5;28mlen\u001b[39m(\u001b[43mtrain_data\u001b[49m)\u001b[38;5;241m+\u001b[39m\u001b[38;5;28mlen\u001b[39m(test_data), end\u001b[38;5;241m=\u001b[39m\u001b[38;5;28mlen\u001b[39m(train_data)\u001b[38;5;241m+\u001b[39m\u001b[38;5;28mlen\u001b[39m(test_data)\u001b[38;5;241m+\u001b[39m\u001b[38;5;28mlen\u001b[39m(date_range)\u001b[38;5;241m-\u001b[39m\u001b[38;5;241m1\u001b[39m,params\u001b[38;5;241m=\u001b[39mmodel_fit\u001b[38;5;241m.\u001b[39mparams)\n\u001b[0;32m      7\u001b[0m forecast_index \u001b[38;5;241m=\u001b[39m pd\u001b[38;5;241m.\u001b[39mDatetimeIndex(date_range)\n\u001b[0;32m      8\u001b[0m forecast_df \u001b[38;5;241m=\u001b[39m pd\u001b[38;5;241m.\u001b[39mDataFrame(forecast_mod, index\u001b[38;5;241m=\u001b[39mforecast_index, columns\u001b[38;5;241m=\u001b[39m[\u001b[38;5;124m'\u001b[39m\u001b[38;5;124mDomesticDebt_adjust\u001b[39m\u001b[38;5;124m'\u001b[39m])\n",
      "\u001b[1;31mNameError\u001b[0m: name 'train_data' is not defined"
     ]
    }
   ],
   "source": [
    "#Making predictions from the ES model for the next 8 years\n",
    "start_date = '2020'\n",
    "end_date = '2028'\n",
    "#date_range = pd.date_range(start=start_date, end=end_date, freq='Q')\n",
    "date_range = pd.date_range(start=start_date, end=end_date, freq='Y')\n",
    "forecast_mod = model.predict(start=len(train_data)+len(test_data), end=len(train_data)+len(test_data)+len(date_range)-1,params=model_fit.params)\n",
    "forecast_index = pd.DatetimeIndex(date_range)\n",
    "forecast_df = pd.DataFrame(forecast_mod, index=forecast_index, columns=['DomesticDebt_adjust'])\n",
    "forecast_df"
   ]
  },
  {
   "cell_type": "code",
   "execution_count": null,
   "id": "8e249cf2",
   "metadata": {},
   "outputs": [],
   "source": [
    "actual_values = quarter_dom_ES['DomesticDebt_adjust']\n",
    "\n",
    "# Plotting the actual values and predicted values\n",
    "\n",
    "#plt.figure(figsize=(20, 6)) \n",
    "plt.plot(actual_values, label='Actual')\n",
    "plt.plot(forecast, label='Predicted')\n",
    "\n",
    "#plt.plot(quarter_dom_ES, label='Actual')\n",
    "#plt.plot(forecast, label='Predicted')\n",
    "\n",
    "plt.xlabel('Time')\n",
    "plt.ylabel('Value')\n",
    "plt.title('Actual vs Predicted Values')\n",
    "plt.legend()\n",
    "\n",
    "plt.show()"
   ]
  },
  {
   "cell_type": "code",
   "execution_count": null,
   "id": "9235d031",
   "metadata": {},
   "outputs": [],
   "source": []
  }
 ],
 "metadata": {
  "kernelspec": {
   "display_name": "Python 3 (ipykernel)",
   "language": "python",
   "name": "python3"
  },
  "language_info": {
   "codemirror_mode": {
    "name": "ipython",
    "version": 3
   },
   "file_extension": ".py",
   "mimetype": "text/x-python",
   "name": "python",
   "nbconvert_exporter": "python",
   "pygments_lexer": "ipython3",
   "version": "3.9.18"
  }
 },
 "nbformat": 4,
 "nbformat_minor": 5
}
